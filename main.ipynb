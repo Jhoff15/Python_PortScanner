{
 "cells": [
  {
   "attachments": {},
   "cell_type": "markdown",
   "metadata": {},
   "source": [
    "# Port Scanner mit Python\n"
   ]
  },
  {
   "attachments": {},
   "cell_type": "markdown",
   "metadata": {},
   "source": [
    "### Aufgabenstellung\n",
    "\n",
    "In der Aufgabe 2.4L ist ein einfaches Port Scanner Script in Python gegeben. <br>\n",
    "Es soll eine Windows-Standartdatei ausgelesen werden und damit die Ausgabe des Port Scanners verbessert werden.<br>\n",
    "Diese Datei Namens 'services' beinhaltet die Standartbelegung von Systemports nach dem TCP/IP Model.<br>\n",
    "Wenn offene Ports gefunden werden, sollen so genauere Daten zu dem Service hinter dem Port gesammelt/angegeben werden.\n",
    "\n",
    "<br>\n",
    "\n",
    "### Gliederung <br>\n",
    "\n",
    "- Gegebenes Programm\n",
    "- Erweiterungen\n",
    "    - Input\n",
    "    - Multithreading\n",
    "    - Service von Ports aus System32 bestimmen\n",
    "    - Logger\n",
    "- Fazit\n",
    "\n",
    "<br>\n",
    "\n",
    "### GitHub <br>\n",
    "\n",
    "- <a href=\"https://github.com/Jhoff15/Python_PortScanner\">Jhoff15\\Port_Scanner\n"
   ]
  },
  {
   "cell_type": "code",
   "execution_count": null,
   "metadata": {},
   "outputs": [],
   "source": [
    "import socket\n",
    "\n",
    "start_port = 0\n",
    "end_port = 150\n",
    "dst_host = \"127.0.0.1\"\n",
    "verbose = False\n",
    "\n",
    "open_ports = []\n",
    "for testport in range(start_port, end_port+1):\n",
    "    sock = socket.socket(socket.AF_INET, socket.SOCK_STREAM)\n",
    "    sock.settimeout(0.5)\n",
    "    try:\n",
    "        sock.connect((dst_host, int(testport)))\n",
    "        open_ports.append(testport)\n",
    "        print(f\"Offener Port: {testport}\")\n",
    "        sock.shutdown(socket.SHUT_RD)\n",
    "\n",
    "    except Exception as e:\n",
    "        if verbose == 1: print(f\"Geschlossener Port: {testport} Expection: {e}\")\n",
    "    \n",
    "    finally:\n",
    "        sock.close()\n",
    "\n",
    "open_ports"
   ]
  },
  {
   "attachments": {},
   "cell_type": "markdown",
   "metadata": {},
   "source": [
    "## 1. Inputs <br>\n",
    "### Helper-Input Funktion für Eingabe von: <br>\n",
    "Host-IP -> dst_host <br>\n",
    "Erster Port -> start_port <br>\n",
    "Letzter Port -> end_port<br>\n",
    "Ausgabetyp -> verbose"
   ]
  },
  {
   "attachments": {},
   "cell_type": "markdown",
   "metadata": {},
   "source": [
    "def get_input(typ: type, text: str, std_value: any):\n",
    "    var = input(text)\n",
    "    \n",
    "    if not var:\n",
    "        return std_value\n",
    "    if typ != str:\n",
    "        try:\n",
    "            return typ(var)\n",
    "        except ValueError:\n",
    "            print(f\"Falsche Eingabe! Geben Sie eine etwas vom Typ {typ} ein.\")\n",
    "            return get_input(typ, text, std_value)\n",
    "    else:\n",
    "        return var"
   ]
  },
  {
   "cell_type": "code",
   "execution_count": null,
   "metadata": {},
   "outputs": [],
   "source": [
    "from helper import get_input\n",
    "\n",
    "dst_host = \"127.0.0.1\"\n",
    "start_port = 0\n",
    "end_port = 1025\n",
    "\n",
    "print(\"Input startet... (keine Eingabe = Standart Werte)\")\n",
    "dst_host = get_input(str, f\"Gebe die Host-IP ein({dst_host}): \", dst_host)\n",
    "start_port = get_input(int, f\"Gebe den Start Port ein({start_port}): \", start_port)\n",
    "end_port = get_input(int, f\"Gebe den End Port ein({end_port}): \", end_port)\n",
    "\n",
    "# Ausgabe\n",
    "(dst_host, start_port, end_port)"
   ]
  },
  {
   "attachments": {},
   "cell_type": "markdown",
   "metadata": {},
   "source": [
    "## 2. Port Scan\n",
    "### find_all_async() Funktion aus port_scanner.py"
   ]
  },
  {
   "cell_type": "code",
   "execution_count": null,
   "metadata": {},
   "outputs": [],
   "source": [
    "from concurrent import futures\n",
    "import socket\n",
    "\n",
    "# Checkt ob ein TCP-Port auf einem Host-System erreichbar/offen ist.\n",
    "def port_checker(dst_host=str, testport=int, verbose=False) -> tuple[bool, int]:\n",
    "    print(f'Port Checker on {testport} started...')\n",
    "\n",
    "    port_open = False\n",
    "\n",
    "    sock = socket.socket(socket.AF_INET, socket.SOCK_STREAM)\n",
    "    sock.settimeout(0.5)\n",
    "    val = sock.connect_ex((dst_host, testport))\n",
    "    \n",
    "    if val == 0:\n",
    "        port_open = True\n",
    "        print(f\"Offener Port: {testport}\")\n",
    "    sock.close()\n",
    "\n",
    "    if verbose and not port_open: print(f\"Geschlossener Port: {testport}\")\n",
    "\n",
    "    print(f'Port Checker on {testport} finished...')\n",
    "    return port_open, testport\n",
    "\n",
    "\n",
    "# Asynchrone Funktionen brauchen eine Funktion, die den Aufruf managed\n",
    "# -> hier find_all_async()\n",
    "open_ports=[]\n",
    "\n",
    "try:\n",
    "    # sock.connect() versucht eine Verbindung mit der angegebenen IP/Port herzustellen\n",
    "    hostinfo = socket.gethostbyaddr(dst_host)\n",
    "    print(f\"Hostname: {hostinfo[0]}, Aliaslist: {hostinfo[1]}, Ipaddrlist: {hostinfo[2]}\")\n",
    "    # wird keine Exception ausgelöst geht es hier weiter\n",
    "    # close() schließt Verbindung und beendet Socket\n",
    "\n",
    "    # Erzeugung der Asynchronen Prozesse https://docs.python.org/3/library/concurrent.futures.html\n",
    "    with futures.ThreadPoolExecutor(max_workers=2000) as executor:\n",
    "        # erzeugt eine Liste mit den Typen list[Future[tuple[bool, int]]] , also wird der Wert noch erwartet, da die Werte\n",
    "        # vom Typ Future sind.\n",
    "        results = [\n",
    "            executor.submit(port_checker, dst_host=dst_host, testport=i) for i in range(start_port, end_port+1)\n",
    "        ]\n",
    "        # Sage dem executor das gewartet werden soll, bis ein Ergebnis zurückkommt\n",
    "        executor.shutdown(wait=True, cancel_futures=False)\n",
    "        \n",
    "        # Wenn thread fertig ist wird der Port der Liste open_ports hinzugefügt\n",
    "        # muss nicht in genauer Reihenfolge passieren\n",
    "        for thread in futures.as_completed(results):\n",
    "            # checken ob der Port offen ist -> Übergebene Bool-Variable\n",
    "            if thread.result()[0]: open_ports.append(thread.result()[1])\n",
    "\n",
    "        \n",
    "#Exception wenn Host nicht erreichbar ist.\n",
    "except Exception as e:\n",
    "    print(f\"Der Host existiert nicht. Exception: {e}\")\n",
    "\n",
    "\n",
    "# Sortiere Ports für aufsteigende Auflistung\n",
    "open_ports.sort()\n",
    "# Gebe sortierte Ports aus\n",
    "print(f'open_ports returned: {open_ports}')\n"
   ]
  },
  {
   "attachments": {},
   "cell_type": "markdown",
   "metadata": {},
   "source": [
    "## 3. Services Dict\n",
    "### get_services_dict() Funktion aus helper.py"
   ]
  },
  {
   "attachments": {},
   "cell_type": "markdown",
   "metadata": {},
   "source": [
    "nameserver         42/tcp    name                   #Host Name Server\n",
    "nameserver         42/udp    name                   #Host Name Server\n",
    "nicname            43/tcp    whois\n",
    "domain             53/tcp                           #Domain Name Server\n",
    "domain             53/udp                           #Domain Name Server\n",
    "bootps             67/udp    dhcps                  #Bootstrap Protocol Server\n",
    "bootpc             68/udp    dhcpc                  #Bootstrap Protocol Client\n",
    "tftp               69/udp                           #Trivial File Transfer\n",
    "gopher             70/tcp\n",
    "finger             79/tcp\n",
    "http               80/tcp    www www-http           #World Wide Web\n",
    "hosts2-ns          81/tcp                           #HOSTS2 Name Server\n",
    "hosts2-ns          81/udp                           #HOSTS2 Name Server\n",
    "kerberos           88/tcp    krb5 kerberos-sec      #Kerberos\n",
    "kerberos           88/udp    krb5 kerberos-sec      #Kerberos\n",
    "hostname          101/tcp    hostnames              #NIC Host Name Server\n",
    "iso-tsap          102/tcp                           #ISO-TSAP Class 0\n",
    "rtelnet           107/tcp                           #Remote Telnet Service\n",
    "pop2              109/tcp    postoffice             #Post Office Protocol - Version 2\n",
    "pop3              110/tcp                           #Post Office Protocol - Version 3\n",
    "sunrpc            111/tcp    rpcbind portmap        #SUN Remote Procedure Call\n",
    "sunrpc            111/udp    rpcbind portmap        #SUN Remote Procedure Call\n",
    "auth              113/tcp    ident tap              #Identification Protocol\n",
    "uucp-path         117/tcp\n",
    "sqlserv           118/tcp                           #SQL Services\n",
    "nntp              119/tcp    usenet                 #Network News Transfer Protocol\n",
    "ntp               123/udp                           #Network Time Protocol\n",
    "epmap             135/tcp    loc-srv                #DCE endpoint resolution\n",
    "epmap             135/udp    loc-srv                #DCE endpoint resolution\n",
    "netbios-ns        137/tcp    nbname                 #NETBIOS Name Service\n",
    "netbios-ns        137/udp    nbname                 #NETBIOS Name Service\n",
    "netbios-dgm       138/udp    nbdatagram             #NETBIOS Datagram Service\n",
    "netbios-ssn       139/tcp    nbsession              #NETBIOS Session Service\n",
    "imap              143/tcp    imap4                  #Internet Message Access Protocol"
   ]
  },
  {
   "cell_type": "code",
   "execution_count": null,
   "metadata": {},
   "outputs": [],
   "source": [
    "# Öffne Datei und speichere sie in Variable\n",
    "fileread = open(\"C:\\Windows\\System32\\drivers\\etc\\services\", \"r\").read()\n",
    "# Erstelle eine Liste der einzelnen Zeilen der Services-Datei\n",
    "lines_string = fileread.splitlines()\n",
    "\n",
    "# erstelle das Dictionary mit {port: service}\n",
    "services_dict = {}\n",
    "# Laufe durch alle Elemente in lines_string\n",
    "for line in lines_string:\n",
    "    # Splite line beim Hashtag\n",
    "    split_by_hashtag = line.split(sep=\"#\", maxsplit=2)[0]\n",
    "    # Splite neue Line in 3 Teile bei Leerzeichen\n",
    "    split_in_3 = split_by_hashtag.split(maxsplit=3)\n",
    "    if len(split_in_3) > 1:\n",
    "        # Trenne zweite Spalte bei \"/\" auf\n",
    "        split_port_protc = split_in_3[1].split(sep=\"/\")\n",
    "\n",
    "        # es wird getestet ob bereits ein Eintrag für den Port existiert\n",
    "        # https://stackoverflow.com/questions/68193407/how-do-i-check-whether-an-open-port-is-tcp-or-udp\n",
    "        if int(split_port_protc[0]) not in services_dict.keys():\n",
    "            # trage key, value par in Dictionary ein\n",
    "            services_dict[int(split_port_protc[0])] = split_in_3[0]\n",
    "\n",
    "services_dict"
   ]
  },
  {
   "attachments": {},
   "cell_type": "markdown",
   "metadata": {},
   "source": [
    "## 4. Logs erzeugen"
   ]
  },
  {
   "cell_type": "code",
   "execution_count": null,
   "metadata": {},
   "outputs": [],
   "source": [
    "from helper import create_file_name\n",
    "import logging \n",
    "\n",
    "# Erzeuge Logger und dessen File\n",
    "file_name = create_file_name()\n",
    "logging.basicConfig(filename=file_name, encoding='utf-8', level=logging.DEBUG)"
   ]
  },
  {
   "cell_type": "code",
   "execution_count": null,
   "metadata": {},
   "outputs": [],
   "source": [
    "from datetime import datetime\n",
    "\n",
    "file_name = datetime.now().strftime(\"%H:%M:%S\")\n",
    "logging.info(f\"   Zeitstempel: {file_name}, ANGRIFF auf: {dst_host}\")\n",
    "\n",
    "# Nur TCP als Protokoll, wegen socket library\n",
    "# Ordne offenen Ports einem Service zu und schreibe in die Logger Datei\n",
    "for port in open_ports:\n",
    "    try:\n",
    "        logging.info(f\"   Offener Port: {port}, Protokoll: tcp, Service: {services_dict.get(port)}\")\n",
    "    except TypeError as e:\n",
    "        logging.error(f\"   Port {port} offen, aber nicht in Protokoll: {e}\")\n",
    "\n",
    "print(f\"Logs wurden unter dem Namen {file_name} erstellt\")\n",
    "\n"
   ]
  },
  {
   "attachments": {},
   "cell_type": "markdown",
   "metadata": {},
   "source": [
    "## 5. NMAP - ZENMAP GUI Vorstellung <br> <br> <br> <br>"
   ]
  },
  {
   "attachments": {},
   "cell_type": "markdown",
   "metadata": {},
   "source": [
    " ## 6. Fazit (Vergleich zu fertigen Scannern)"
   ]
  },
  {
   "attachments": {},
   "cell_type": "markdown",
   "metadata": {},
   "source": [
    " Persönliches Programm:\n",
    " - individuell erweiterbar/anpassbar (Logger,...) \n",
    " - Daten bleiben geheim \n",
    " - Programmierkenntnisse nötig \n",
    " - vertrauenswürdig\n",
    "\n",
    " Öffentliche Portscanner:\n",
    " - Benutzerfreundlich (wenig bis keine Kenntnisse notwendig)\n",
    " - Daten werden evtl. weitergegeben \n",
    " - Oft sehr viele Infos --> unübersichtlich \n",
    " - mögliche Gefahren (Malware --> Spyware)"
   ]
  }
 ],
 "metadata": {
  "kernelspec": {
   "display_name": "Python 3",
   "language": "python",
   "name": "python3"
  },
  "language_info": {
   "codemirror_mode": {
    "name": "ipython",
    "version": 3
   },
   "file_extension": ".py",
   "mimetype": "text/x-python",
   "name": "python",
   "nbconvert_exporter": "python",
   "pygments_lexer": "ipython3",
   "version": "3.11.1"
  },
  "orig_nbformat": 4
 },
 "nbformat": 4,
 "nbformat_minor": 2
}
